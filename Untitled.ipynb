{
 "cells": [
  {
   "cell_type": "raw",
   "metadata": {},
   "source": [
    "!{sys.executable} -m pip install pyrsktools numpy "
   ]
  },
  {
   "cell_type": "code",
   "execution_count": 75,
   "metadata": {},
   "outputs": [
    {
     "data": {
      "text/html": [
       "<style>.container { width:100% !important; }</style>"
      ],
      "text/plain": [
       "<IPython.core.display.HTML object>"
      ]
     },
     "metadata": {},
     "output_type": "display_data"
    }
   ],
   "source": [
    "from IPython.core.display import display, HTML\n",
    "display(HTML(\"<style>.container { width:100% !important; }</style>\"))\n",
    "import sys\n"
   ]
  },
  {
   "cell_type": "code",
   "execution_count": 76,
   "metadata": {},
   "outputs": [],
   "source": [
    "import pyrsktools\n",
    "import numpy \n",
    "import itertools\n",
    "from datetime import datetime, timezone\n",
    "import matplotlib"
   ]
  },
  {
   "cell_type": "code",
   "execution_count": 77,
   "metadata": {},
   "outputs": [
    {
     "data": {
      "text/plain": [
       "'062555_20200616_1046.rsk'"
      ]
     },
     "execution_count": 77,
     "metadata": {},
     "output_type": "execute_result"
    }
   ],
   "source": [
    "rsk = pyrsktools.open('062555_20200616_1046.rsk')\n",
    "rsk.name"
   ]
  },
  {
   "cell_type": "code",
   "execution_count": 78,
   "metadata": {},
   "outputs": [
    {
     "data": {
      "text/plain": [
       "Instrument(serial=62555, model='RBRconcerto3', firmware_version='1.111', firmware_type=None)"
      ]
     },
     "execution_count": 78,
     "metadata": {},
     "output_type": "execute_result"
    }
   ],
   "source": [
    "rsk.instrument"
   ]
  },
  {
   "cell_type": "code",
   "execution_count": 79,
   "metadata": {},
   "outputs": [
    {
     "data": {
      "text/plain": [
       "OrderedDict([('conductivity_00',\n",
       "              Channel(id=1, key='cond09', label='conductivity_00', name='Conductivity', units='mS/cm', derived=False)),\n",
       "             ('temperature_00',\n",
       "              Channel(id=2, key='temp09', label='temperature_00', name='Temperature', units='°C', derived=False)),\n",
       "             ('chlorophyll_00',\n",
       "              Channel(id=3, key='fluo10', label='chlorophyll_00', name='Chlorophyll a', units='µg/l', derived=False)),\n",
       "             ('oxygenconcentration_00',\n",
       "              Channel(id=4, key='doxy27', label='oxygenconcentration_00', name='Dissolved O₂ concentration', units='µmol/l', derived=False)),\n",
       "             ('odotemperature_00',\n",
       "              Channel(id=5, key='temp17', label='odotemperature_00', name='Temperature', units='°C', derived=False)),\n",
       "             ('salinity_00',\n",
       "              Channel(id=6, key='sal_00', label='salinity_00', name='Salinity', units='PSU', derived=True)),\n",
       "             ('specificconductivity_00',\n",
       "              Channel(id=7, key='scon00', label='specificconductivity_00', name='Specific conductivity', units='µS/cm', derived=True)),\n",
       "             ('oxygensaturation_00',\n",
       "              Channel(id=8, key='doxy22', label='oxygensaturation_00', name='Dissolved O₂ saturation', units='%', derived=True))])"
      ]
     },
     "execution_count": 79,
     "metadata": {},
     "output_type": "execute_result"
    }
   ],
   "source": [
    "rsk.channels"
   ]
  },
  {
   "cell_type": "code",
   "execution_count": 80,
   "metadata": {},
   "outputs": [
    {
     "data": {
      "text/plain": [
       "Deployment(id=1, comment='', logger_status='logging', logger_time_drift='', download_time=datetime.datetime(2020, 6, 16, 17, 46, 20, 716000, tzinfo=datetime.timezone.utc), name='/var/mobile/Containers/Data/Application/DB8628E8-8CF6-4A28-940E-898322F3726B/Documents/Downloads/062555_20200616_1046.rsk', sample_size=3937)"
      ]
     },
     "execution_count": 80,
     "metadata": {},
     "output_type": "execute_result"
    }
   ],
   "source": [
    "rsk.deployment"
   ]
  },
  {
   "cell_type": "code",
   "execution_count": 81,
   "metadata": {},
   "outputs": [
    {
     "name": "stdout",
     "output_type": "stream",
     "text": [
      "(3937,)\n"
     ]
    },
    {
     "data": {
      "text/plain": [
       "('timestamp',\n",
       " 'conductivity_00',\n",
       " 'temperature_00',\n",
       " 'chlorophyll_00',\n",
       " 'oxygenconcentration_00',\n",
       " 'odotemperature_00',\n",
       " 'salinity_00',\n",
       " 'specificconductivity_00',\n",
       " 'oxygensaturation_00')"
      ]
     },
     "execution_count": 81,
     "metadata": {},
     "output_type": "execute_result"
    }
   ],
   "source": [
    "a = rsk.npsamples()\n",
    "print(a.shape)\n",
    "a.dtype.names"
   ]
  },
  {
   "cell_type": "raw",
   "metadata": {},
   "source": [
    "for element in a.flat:\n",
    "    print(element)"
   ]
  },
  {
   "cell_type": "code",
   "execution_count": 82,
   "metadata": {},
   "outputs": [
    {
     "name": "stdout",
     "output_type": "stream",
     "text": [
      "Sample(timestamp=datetime.datetime(2020, 3, 26, 10, 30, tzinfo=datetime.timezone.utc), conductivity_00=41.204864501953125, temperature_00=16.9913330078125, chlorophyll_00=4.093505859375, oxygenconcentration_00=203.63320922851562, odotemperature_00=16.960100173950195, salinity_00=31.805011749267578, specificconductivity_00=48646.03125, oxygensaturation_00=81.93721008300781)\n",
      "Sample(timestamp=datetime.datetime(2020, 3, 26, 11, 0, tzinfo=datetime.timezone.utc), conductivity_00=41.24565124511719, temperature_00=17.033203125, chlorophyll_00=4.33148193359375, oxygenconcentration_00=208.49038696289062, odotemperature_00=17.023300170898438, salinity_00=31.807058334350586, specificconductivity_00=48648.25390625, oxygensaturation_00=83.9610595703125)\n",
      "Sample(timestamp=datetime.datetime(2020, 3, 26, 11, 30, tzinfo=datetime.timezone.utc), conductivity_00=41.20783233642578, temperature_00=16.984344482421875, chlorophyll_00=8.0001220703125, oxygenconcentration_00=211.57032775878906, odotemperature_00=16.998600006103516, salinity_00=31.813085556030273, specificconductivity_00=48657.19921875, oxygensaturation_00=85.12349700927734)\n",
      "Sample(timestamp=datetime.datetime(2020, 3, 26, 12, 0, tzinfo=datetime.timezone.utc), conductivity_00=41.230403900146484, temperature_00=17.018707275390625, chlorophyll_00=10.62994384765625, oxygenconcentration_00=221.00070190429688, odotemperature_00=17.0054988861084, salinity_00=31.805374145507812, specificconductivity_00=48646.15234375, oxygensaturation_00=88.97308349609375)\n",
      "Sample(timestamp=datetime.datetime(2020, 3, 26, 12, 30, tzinfo=datetime.timezone.utc), conductivity_00=41.22690200805664, temperature_00=17.03411865234375, chlorophyll_00=23.88873291015625, oxygenconcentration_00=216.48846435546875, odotemperature_00=17.006898880004883, salinity_00=31.790203094482422, specificconductivity_00=48625.1328125, oxygensaturation_00=87.17462158203125)\n"
     ]
    }
   ],
   "source": [
    "rsk.samples()\n",
    "import itertools\n",
    "for sample in itertools.islice(rsk.samples(), 5):\n",
    "    print(sample)"
   ]
  },
  {
   "cell_type": "code",
   "execution_count": 83,
   "metadata": {},
   "outputs": [],
   "source": [
    "rsk.geodata()\n",
    "for geo in itertools.islice(rsk.geodata(), 5):\n",
    "    print(geo)"
   ]
  },
  {
   "cell_type": "code",
   "execution_count": null,
   "metadata": {},
   "outputs": [],
   "source": []
  }
 ],
 "metadata": {
  "kernelspec": {
   "display_name": "Python 3",
   "language": "python",
   "name": "python3"
  },
  "language_info": {
   "codemirror_mode": {
    "name": "ipython",
    "version": 3
   },
   "file_extension": ".py",
   "mimetype": "text/x-python",
   "name": "python",
   "nbconvert_exporter": "python",
   "pygments_lexer": "ipython3",
   "version": "3.8.5"
  }
 },
 "nbformat": 4,
 "nbformat_minor": 4
}
